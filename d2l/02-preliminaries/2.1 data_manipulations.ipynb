{
 "cells": [
  {
   "cell_type": "markdown",
   "metadata": {},
   "source": [
    "# 2.1 Data Manipulations"
   ]
  },
  {
   "cell_type": "code",
   "execution_count": 3,
   "metadata": {},
   "outputs": [],
   "source": [
    "# Import Pytorch library\n",
    "import torch"
   ]
  },
  {
   "cell_type": "code",
   "execution_count": 227,
   "metadata": {},
   "outputs": [],
   "source": [
    "if torch.cuda.is_available():\n",
    "    device = \"cuda\" \n",
    "elif torch.backends.mps.is_available():\n",
    "    device=\"mps\"\n",
    "else:\n",
    "    device = \"cpu\""
   ]
  },
  {
   "cell_type": "markdown",
   "metadata": {},
   "source": [
    "## Torch Datatypes\n",
    "PyTorch has twelve different data types:\n",
    "| Data Type                 | dtype                                         | \n",
    "| ---                       | ---                                           |\n",
    "| 32 bit floating point     | ```torch.float32``` or ```torch.float```      |\n",
    "| 64 bit floating point     | ```torch.float64``` or ```torch.double```     |\n",
    "| 64 bit Complex            | ```torch.complex64``` or ```torch.cfloat```   |\n",
    "| 128 bit complex           | ```torch.complex128``` or ```torch.cdouble``` |\n",
    "| 16 bit float point 1      | ```torch.float16``` or ```torch.half```       |\n",
    "| 16 bit float point 2      | ```torch.bfloat16```                          |\n",
    "| 8 bit Integer (Unsigned)  | ```torch.uint8```                             |\n",
    "| 8 bit Integer (signed)    | ```torch.int8```                              |\n",
    "| 16 bit Integer (signed)   | ```torch.int16``` or ```torch.short```        |\n",
    "| 32 bit Integer (signed)   | ```torch.int32``` or ```torch.int```          |\n",
    "| 64 bit Integer (signed)   | ```torch.int64``` or ```torch.long```         |\n",
    "| Boolean                   | ```torch.bool```                              |\n",
    "\n"
   ]
  },
  {
   "cell_type": "markdown",
   "metadata": {},
   "source": [
    "A ```python torch.dtype``` is an object that represents the data type of a ```python torch.Tensor```."
   ]
  },
  {
   "cell_type": "code",
   "execution_count": 8,
   "metadata": {},
   "outputs": [],
   "source": [
    "float_tensor = torch.ones(1, dtype=torch.float)\n",
    "double_tensor = torch.ones(1, dtype=torch.double)\n",
    "complex_float_tensor = torch.ones(1, dtype=torch.complex64)\n",
    "complex_double_tensor = torch.ones(1, dtype=torch.complex128)\n",
    "int_tensor = torch.ones(1, dtype=torch.int)\n",
    "long_tensor = torch.ones(1, dtype=torch.long)\n",
    "uint_tensor = torch.ones(1, dtype=torch.uint8)\n",
    "double_tensor = torch.ones(1, dtype=torch.double)\n",
    "bool_tensor = torch.ones(1, dtype=torch.bool)\n",
    "# zero-dim tensors\n",
    "long_zerodim = torch.tensor(1, dtype=torch.long)\n",
    "int_zerodim = torch.tensor(1, dtype=torch.int)"
   ]
  },
  {
   "cell_type": "markdown",
   "metadata": {},
   "source": [
    "## Tensors (N-dimensionsal arrays)\n",
    "\n",
    "- A tensor represents a (possibly multidimensional) array of numerical values.\n",
    "- one-dimensional case, i.e., when only one axis is needed for the data, a tensor is called a vector.\n",
    "- With two axes, a tensor is called a matrix\n",
    "- with $ n \\gt 2 $:  ${n}^{th}$ order tensor \n",
    "- Similar to Numpy ndarray with few extra options\n",
    "- the tensor class supports automatic differentiation\n",
    "- leverages GPUs to accelerate numerical computation\n"
   ]
  },
  {
   "cell_type": "code",
   "execution_count": 4,
   "metadata": {},
   "outputs": [
    {
     "data": {
      "text/plain": [
       "tensor([ 0,  1,  2,  3,  4,  5,  6,  7,  8,  9, 10, 11])"
      ]
     },
     "execution_count": 4,
     "metadata": {},
     "output_type": "execute_result"
    }
   ],
   "source": [
    "# Create basic 1d tensor (vector)\n",
    "x = torch.arange(0, 12, dtype=torch.int64)\n",
    "x"
   ]
  },
  {
   "cell_type": "code",
   "execution_count": 6,
   "metadata": {},
   "outputs": [
    {
     "data": {
      "text/plain": [
       "12"
      ]
     },
     "execution_count": 6,
     "metadata": {},
     "output_type": "execute_result"
    }
   ],
   "source": [
    "# Get th number of elements in the tensor\n",
    "x.numel()"
   ]
  },
  {
   "cell_type": "code",
   "execution_count": 7,
   "metadata": {},
   "outputs": [
    {
     "data": {
      "text/plain": [
       "torch.Size([12])"
      ]
     },
     "execution_count": 7,
     "metadata": {},
     "output_type": "execute_result"
    }
   ],
   "source": [
    "# Get the shape of the tensor\n",
    "x.shape"
   ]
  },
  {
   "cell_type": "code",
   "execution_count": 12,
   "metadata": {},
   "outputs": [
    {
     "data": {
      "text/plain": [
       "tensor([[ 0,  1,  2,  3],\n",
       "        [ 4,  5,  6,  7],\n",
       "        [ 8,  9, 10, 11]])"
      ]
     },
     "execution_count": 12,
     "metadata": {},
     "output_type": "execute_result"
    }
   ],
   "source": [
    "X = x.reshape(3,4)\n",
    "X"
   ]
  },
  {
   "cell_type": "code",
   "execution_count": 13,
   "metadata": {},
   "outputs": [
    {
     "data": {
      "text/plain": [
       "tensor([[ 0,  1,  2],\n",
       "        [ 3,  4,  5],\n",
       "        [ 6,  7,  8],\n",
       "        [ 9, 10, 11]])"
      ]
     },
     "execution_count": 13,
     "metadata": {},
     "output_type": "execute_result"
    }
   ],
   "source": [
    "Y = x.reshape(4,3)\n",
    "Y"
   ]
  },
  {
   "cell_type": "code",
   "execution_count": 15,
   "metadata": {},
   "outputs": [
    {
     "data": {
      "text/plain": [
       "tensor([[[ 0,  1],\n",
       "         [ 2,  3]],\n",
       "\n",
       "        [[ 4,  5],\n",
       "         [ 6,  7]],\n",
       "\n",
       "        [[ 8,  9],\n",
       "         [10, 11]]])"
      ]
     },
     "execution_count": 15,
     "metadata": {},
     "output_type": "execute_result"
    }
   ],
   "source": [
    "Z = x.reshape(3,2,2)\n",
    "Z"
   ]
  },
  {
   "cell_type": "code",
   "execution_count": 16,
   "metadata": {},
   "outputs": [
    {
     "data": {
      "text/plain": [
       "tensor([[0., 0., 0., 0.],\n",
       "        [0., 0., 0., 0.],\n",
       "        [0., 0., 0., 0.]])"
      ]
     },
     "execution_count": 16,
     "metadata": {},
     "output_type": "execute_result"
    }
   ],
   "source": [
    "torch.zeros(3,4)"
   ]
  },
  {
   "cell_type": "code",
   "execution_count": 19,
   "metadata": {},
   "outputs": [
    {
     "data": {
      "text/plain": [
       "tensor([[[1., 1., 1.],\n",
       "         [1., 1., 1.],\n",
       "         [1., 1., 1.]],\n",
       "\n",
       "        [[1., 1., 1.],\n",
       "         [1., 1., 1.],\n",
       "         [1., 1., 1.]]])"
      ]
     },
     "execution_count": 19,
     "metadata": {},
     "output_type": "execute_result"
    }
   ],
   "source": [
    "torch.ones(2,3,3)"
   ]
  },
  {
   "cell_type": "code",
   "execution_count": 22,
   "metadata": {},
   "outputs": [],
   "source": [
    "R = torch.rand(2,3,4)"
   ]
  },
  {
   "cell_type": "code",
   "execution_count": 23,
   "metadata": {},
   "outputs": [
    {
     "data": {
      "text/plain": [
       "torch.Size([2, 3, 4])"
      ]
     },
     "execution_count": 23,
     "metadata": {},
     "output_type": "execute_result"
    }
   ],
   "source": [
    "R.shape"
   ]
  },
  {
   "cell_type": "code",
   "execution_count": null,
   "metadata": {},
   "outputs": [
    {
     "data": {
      "text/plain": [
       "torch.Size([2, 3])"
      ]
     },
     "execution_count": 25,
     "metadata": {},
     "output_type": "execute_result"
    }
   ],
   "source": [
    "torch.tensor([[1,2,3],[4,5,6]])"
   ]
  },
  {
   "cell_type": "code",
   "execution_count": null,
   "metadata": {},
   "outputs": [
    {
     "data": {
      "text/plain": [
       "torch.Size([1, 3, 3])"
      ]
     },
     "execution_count": 27,
     "metadata": {},
     "output_type": "execute_result"
    }
   ],
   "source": [
    "torch.tensor([\n",
    "    [\n",
    "        [1,2,3],\n",
    "        [4,5,6],\n",
    "        [7,8,9]\n",
    "    ]\n",
    "]).shape"
   ]
  },
  {
   "cell_type": "code",
   "execution_count": 28,
   "metadata": {},
   "outputs": [
    {
     "data": {
      "text/plain": [
       "torch.Size([2, 3, 3])"
      ]
     },
     "execution_count": 28,
     "metadata": {},
     "output_type": "execute_result"
    }
   ],
   "source": [
    "torch.tensor([\n",
    "    [\n",
    "        [1,2,3],\n",
    "        [4,5,6],\n",
    "        [7,8,9]\n",
    "    ],\n",
    "    [\n",
    "        [10,20,30],\n",
    "        [40,50,60],\n",
    "        [70,80,90]\n",
    "    ]\n",
    "]).shape"
   ]
  },
  {
   "cell_type": "markdown",
   "metadata": {},
   "source": [
    "# Indexing and Slicing"
   ]
  },
  {
   "cell_type": "code",
   "execution_count": 31,
   "metadata": {},
   "outputs": [
    {
     "data": {
      "text/plain": [
       "tensor(1)"
      ]
     },
     "execution_count": 31,
     "metadata": {},
     "output_type": "execute_result"
    }
   ],
   "source": [
    "X[0][1]"
   ]
  },
  {
   "cell_type": "code",
   "execution_count": 58,
   "metadata": {},
   "outputs": [],
   "source": [
    "rn = torch.rand(4,2,6,)"
   ]
  },
  {
   "cell_type": "code",
   "execution_count": 72,
   "metadata": {},
   "outputs": [
    {
     "data": {
      "text/plain": [
       "tensor([[[0.0830, 0.0751, 0.1474, 0.6161, 0.4609, 0.3846],\n",
       "         [0.7603, 0.8071, 0.8540, 0.9838, 0.5104, 0.0663]],\n",
       "\n",
       "        [[0.4126, 0.2318, 0.7605, 0.7208, 0.3830, 0.8887],\n",
       "         [0.7021, 0.7988, 0.2698, 0.2687, 0.7930, 0.7253]],\n",
       "\n",
       "        [[0.3961, 0.4787, 0.5930, 0.7325, 0.2186, 0.3695],\n",
       "         [0.1476, 0.0858, 0.7262, 0.4829, 0.5942, 0.2515]],\n",
       "\n",
       "        [[0.8853, 0.1658, 0.7454, 0.5745, 0.4822, 0.2211],\n",
       "         [0.7186, 0.5265, 0.1586, 0.9491, 0.1679, 0.8749]]])"
      ]
     },
     "execution_count": 72,
     "metadata": {},
     "output_type": "execute_result"
    }
   ],
   "source": [
    "rn"
   ]
  },
  {
   "cell_type": "code",
   "execution_count": 79,
   "metadata": {},
   "outputs": [],
   "source": [
    "rn[2][1][1] = 10"
   ]
  },
  {
   "cell_type": "code",
   "execution_count": 77,
   "metadata": {},
   "outputs": [],
   "source": [
    "rn[1:2] = 1"
   ]
  },
  {
   "cell_type": "code",
   "execution_count": 78,
   "metadata": {},
   "outputs": [
    {
     "data": {
      "text/plain": [
       "tensor([[[0.0830, 0.0751, 0.1474, 0.6161, 0.4609, 0.3846],\n",
       "         [0.7603, 0.8071, 0.8540, 0.9838, 0.5104, 0.0663]],\n",
       "\n",
       "        [[1.0000, 1.0000, 1.0000, 1.0000, 1.0000, 1.0000],\n",
       "         [1.0000, 1.0000, 1.0000, 1.0000, 1.0000, 1.0000]],\n",
       "\n",
       "        [[0.3961, 0.4787, 0.5930, 0.7325, 0.2186, 0.3695],\n",
       "         [0.1476, 0.0858, 0.7262, 0.4829, 0.5942, 0.2515]],\n",
       "\n",
       "        [[0.8853, 0.1658, 0.7454, 0.5745, 0.4822, 0.2211],\n",
       "         [0.7186, 0.5265, 0.1586, 0.9491, 0.1679, 0.8749]]])"
      ]
     },
     "execution_count": 78,
     "metadata": {},
     "output_type": "execute_result"
    }
   ],
   "source": [
    "rn"
   ]
  },
  {
   "cell_type": "code",
   "execution_count": 80,
   "metadata": {},
   "outputs": [
    {
     "data": {
      "text/plain": [
       "tensor([[[ 0.0830,  0.0751,  0.1474,  0.6161,  0.4609,  0.3846],\n",
       "         [ 0.7603,  0.8071,  0.8540,  0.9838,  0.5104,  0.0663]],\n",
       "\n",
       "        [[ 1.0000,  1.0000,  1.0000,  1.0000,  1.0000,  1.0000],\n",
       "         [ 1.0000,  1.0000,  1.0000,  1.0000,  1.0000,  1.0000]],\n",
       "\n",
       "        [[ 0.3961,  0.4787,  0.5930,  0.7325,  0.2186,  0.3695],\n",
       "         [ 0.1476, 10.0000,  0.7262,  0.4829,  0.5942,  0.2515]],\n",
       "\n",
       "        [[ 0.8853,  0.1658,  0.7454,  0.5745,  0.4822,  0.2211],\n",
       "         [ 0.7186,  0.5265,  0.1586,  0.9491,  0.1679,  0.8749]]])"
      ]
     },
     "execution_count": 80,
     "metadata": {},
     "output_type": "execute_result"
    }
   ],
   "source": [
    "rn"
   ]
  },
  {
   "cell_type": "code",
   "execution_count": 91,
   "metadata": {},
   "outputs": [
    {
     "data": {
      "text/plain": [
       "tensor([[[0.8071, 0.8540]]])"
      ]
     },
     "execution_count": 91,
     "metadata": {},
     "output_type": "execute_result"
    }
   ],
   "source": [
    "rn[0:1, 1:2, 1:3]"
   ]
  },
  {
   "cell_type": "markdown",
   "metadata": {},
   "source": [
    "# Element wise Operations"
   ]
  },
  {
   "cell_type": "code",
   "execution_count": 103,
   "metadata": {},
   "outputs": [],
   "source": [
    "a = torch.arange(1, 17,step=1)\n",
    "b = torch.arange(17, 17 + a.shape[0], step = 1)"
   ]
  },
  {
   "cell_type": "code",
   "execution_count": 105,
   "metadata": {},
   "outputs": [
    {
     "data": {
      "text/plain": [
       "True"
      ]
     },
     "execution_count": 105,
     "metadata": {},
     "output_type": "execute_result"
    }
   ],
   "source": [
    "b.shape[0] == a.shape[0]"
   ]
  },
  {
   "cell_type": "code",
   "execution_count": 110,
   "metadata": {},
   "outputs": [
    {
     "name": "stdout",
     "output_type": "stream",
     "text": [
      "\n",
      " tensor([ 1,  2,  3,  4,  5,  6,  7,  8,  9, 10, 11, 12, 13, 14, 15, 16]) \n",
      " tensor([ 3,  4,  5,  6,  7,  8,  9, 10, 11, 12, 13, 14, 15, 16, 17, 18])\n"
     ]
    }
   ],
   "source": [
    "# Addtion\n",
    "print('\\n', a, '\\n', a+2)"
   ]
  },
  {
   "cell_type": "code",
   "execution_count": 111,
   "metadata": {},
   "outputs": [
    {
     "name": "stdout",
     "output_type": "stream",
     "text": [
      "\n",
      " tensor([ 1,  2,  3,  4,  5,  6,  7,  8,  9, 10, 11, 12, 13, 14, 15, 16]) \n",
      " tensor([-9, -8, -7, -6, -5, -4, -3, -2, -1,  0,  1,  2,  3,  4,  5,  6])\n"
     ]
    }
   ],
   "source": [
    "# Subtraction\n",
    "print('\\n', a, '\\n', a-10)"
   ]
  },
  {
   "cell_type": "code",
   "execution_count": 113,
   "metadata": {},
   "outputs": [
    {
     "name": "stdout",
     "output_type": "stream",
     "text": [
      "\n",
      " tensor([ 1,  2,  3,  4,  5,  6,  7,  8,  9, 10, 11, 12, 13, 14, 15, 16]) \n",
      " tensor([ 10,  20,  30,  40,  50,  60,  70,  80,  90, 100, 110, 120, 130, 140,\n",
      "        150, 160])\n"
     ]
    }
   ],
   "source": [
    "# Multiplication\n",
    "print('\\n', a, '\\n', a*10)"
   ]
  },
  {
   "cell_type": "code",
   "execution_count": 121,
   "metadata": {},
   "outputs": [
    {
     "data": {
      "text/plain": [
       "tensor([ 17,  36,  57,  80, 105, 132, 161, 192, 225, 260, 297, 336, 377, 420,\n",
       "        465, 512])"
      ]
     },
     "execution_count": 121,
     "metadata": {},
     "output_type": "execute_result"
    }
   ],
   "source": [
    "a*b\n"
   ]
  },
  {
   "cell_type": "code",
   "execution_count": 120,
   "metadata": {},
   "outputs": [
    {
     "data": {
      "text/plain": [
       "tensor([ 17,  36,  57,  80, 105, 132, 161, 192, 225, 260, 297, 336, 377, 420,\n",
       "        465, 512])"
      ]
     },
     "execution_count": 120,
     "metadata": {},
     "output_type": "execute_result"
    }
   ],
   "source": [
    "a.mul(b)"
   ]
  },
  {
   "cell_type": "code",
   "execution_count": 119,
   "metadata": {},
   "outputs": [
    {
     "data": {
      "text/plain": [
       "tensor([ 17,  36,  57,  80, 105, 132, 161, 192, 225, 260, 297, 336, 377, 420,\n",
       "        465, 512])"
      ]
     },
     "execution_count": 119,
     "metadata": {},
     "output_type": "execute_result"
    }
   ],
   "source": [
    "torch.mul(a,b)"
   ]
  },
  {
   "cell_type": "code",
   "execution_count": 123,
   "metadata": {},
   "outputs": [
    {
     "data": {
      "text/plain": [
       "tensor([0.0588, 0.1111, 0.1579, 0.2000, 0.2381, 0.2727, 0.3043, 0.3333, 0.3600,\n",
       "        0.3846, 0.4074, 0.4286, 0.4483, 0.4667, 0.4839, 0.5000])"
      ]
     },
     "execution_count": 123,
     "metadata": {},
     "output_type": "execute_result"
    }
   ],
   "source": [
    "# Division\n",
    "a/b\n"
   ]
  },
  {
   "cell_type": "code",
   "execution_count": 128,
   "metadata": {},
   "outputs": [
    {
     "data": {
      "text/plain": [
       "tensor([0.0588, 0.1111, 0.1579, 0.2000, 0.2381, 0.2727, 0.3043, 0.3333, 0.3600,\n",
       "        0.3846, 0.4074, 0.4286, 0.4483, 0.4667, 0.4839, 0.5000])"
      ]
     },
     "execution_count": 128,
     "metadata": {},
     "output_type": "execute_result"
    }
   ],
   "source": [
    "a.div(b)"
   ]
  },
  {
   "cell_type": "code",
   "execution_count": 129,
   "metadata": {},
   "outputs": [
    {
     "data": {
      "text/plain": [
       "tensor([0.0588, 0.1111, 0.1579, 0.2000, 0.2381, 0.2727, 0.3043, 0.3333, 0.3600,\n",
       "        0.3846, 0.4074, 0.4286, 0.4483, 0.4667, 0.4839, 0.5000])"
      ]
     },
     "execution_count": 129,
     "metadata": {},
     "output_type": "execute_result"
    }
   ],
   "source": [
    "torch.div(a,b)"
   ]
  },
  {
   "cell_type": "code",
   "execution_count": 130,
   "metadata": {},
   "outputs": [
    {
     "data": {
      "text/plain": [
       "tensor([                   1,               262144,           1162261467,\n",
       "               1099511627776,      476837158203125,   131621703842267136,\n",
       "         8922003266371364727,                    0,  6048575297968530377,\n",
       "        -2537764290115403776,  3409482885583668627,  3530822107858468864,\n",
       "         3393902732584081725, -2594600101900976128, -8207802330756800273,\n",
       "                           0])"
      ]
     },
     "execution_count": 130,
     "metadata": {},
     "output_type": "execute_result"
    }
   ],
   "source": [
    "# Power\n",
    "a**b"
   ]
  },
  {
   "cell_type": "code",
   "execution_count": 131,
   "metadata": {},
   "outputs": [
    {
     "data": {
      "text/plain": [
       "tensor([                   1,               262144,           1162261467,\n",
       "               1099511627776,      476837158203125,   131621703842267136,\n",
       "         8922003266371364727,                    0,  6048575297968530377,\n",
       "        -2537764290115403776,  3409482885583668627,  3530822107858468864,\n",
       "         3393902732584081725, -2594600101900976128, -8207802330756800273,\n",
       "                           0])"
      ]
     },
     "execution_count": 131,
     "metadata": {},
     "output_type": "execute_result"
    }
   ],
   "source": [
    "a.pow(b)"
   ]
  },
  {
   "cell_type": "code",
   "execution_count": 132,
   "metadata": {},
   "outputs": [
    {
     "data": {
      "text/plain": [
       "tensor([                   1,               262144,           1162261467,\n",
       "               1099511627776,      476837158203125,   131621703842267136,\n",
       "         8922003266371364727,                    0,  6048575297968530377,\n",
       "        -2537764290115403776,  3409482885583668627,  3530822107858468864,\n",
       "         3393902732584081725, -2594600101900976128, -8207802330756800273,\n",
       "                           0])"
      ]
     },
     "execution_count": 132,
     "metadata": {},
     "output_type": "execute_result"
    }
   ],
   "source": [
    "torch.pow(a,b)"
   ]
  },
  {
   "cell_type": "code",
   "execution_count": 134,
   "metadata": {},
   "outputs": [
    {
     "data": {
      "text/plain": [
       "tensor([1, 0, 1, 0, 1, 0, 1, 0, 1, 0, 1, 0, 1, 0, 1, 0])"
      ]
     },
     "execution_count": 134,
     "metadata": {},
     "output_type": "execute_result"
    }
   ],
   "source": [
    "# Reminder or Modulus\n",
    "a % 2"
   ]
  },
  {
   "cell_type": "code",
   "execution_count": 135,
   "metadata": {},
   "outputs": [
    {
     "data": {
      "text/plain": [
       "tensor([1, 0, 1, 0, 1, 0, 1, 0, 1, 0, 1, 0, 1, 0, 1, 0])"
      ]
     },
     "execution_count": 135,
     "metadata": {},
     "output_type": "execute_result"
    }
   ],
   "source": [
    "a.remainder(2)"
   ]
  },
  {
   "cell_type": "code",
   "execution_count": 136,
   "metadata": {},
   "outputs": [
    {
     "data": {
      "text/plain": [
       "tensor([1, 0, 1, 0, 1, 0, 1, 0, 1, 0, 1, 0, 1, 0, 1, 0])"
      ]
     },
     "execution_count": 136,
     "metadata": {},
     "output_type": "execute_result"
    }
   ],
   "source": [
    "torch.remainder(a,2)"
   ]
  },
  {
   "cell_type": "markdown",
   "metadata": {},
   "source": [
    "# Comparision Operators\n"
   ]
  },
  {
   "cell_type": "code",
   "execution_count": 137,
   "metadata": {},
   "outputs": [
    {
     "data": {
      "text/plain": [
       "tensor([False, False,  True,  True,  True,  True,  True,  True,  True,  True,\n",
       "         True,  True,  True,  True,  True,  True])"
      ]
     },
     "execution_count": 137,
     "metadata": {},
     "output_type": "execute_result"
    }
   ],
   "source": [
    "# Greater\n",
    "a > 2"
   ]
  },
  {
   "cell_type": "code",
   "execution_count": 138,
   "metadata": {},
   "outputs": [
    {
     "data": {
      "text/plain": [
       "tensor([False, False,  True,  True,  True,  True,  True,  True,  True,  True,\n",
       "         True,  True,  True,  True,  True,  True])"
      ]
     },
     "execution_count": 138,
     "metadata": {},
     "output_type": "execute_result"
    }
   ],
   "source": [
    "a.greater(2)"
   ]
  },
  {
   "cell_type": "code",
   "execution_count": 139,
   "metadata": {},
   "outputs": [
    {
     "data": {
      "text/plain": [
       "tensor([False, False,  True,  True,  True,  True,  True,  True,  True,  True,\n",
       "         True,  True,  True,  True,  True,  True])"
      ]
     },
     "execution_count": 139,
     "metadata": {},
     "output_type": "execute_result"
    }
   ],
   "source": [
    "torch.greater(a, 2)"
   ]
  },
  {
   "cell_type": "code",
   "execution_count": 141,
   "metadata": {},
   "outputs": [
    {
     "data": {
      "text/plain": [
       "tensor([False, False,  True,  True,  True,  True,  True,  True,  True,  True,\n",
       "         True,  True,  True,  True,  True,  True])"
      ]
     },
     "execution_count": 141,
     "metadata": {},
     "output_type": "execute_result"
    }
   ],
   "source": [
    "torch.gt(a, 2)"
   ]
  },
  {
   "cell_type": "code",
   "execution_count": 142,
   "metadata": {},
   "outputs": [
    {
     "data": {
      "text/plain": [
       "tensor([False,  True,  True,  True,  True,  True,  True,  True,  True,  True,\n",
       "         True,  True,  True,  True,  True,  True])"
      ]
     },
     "execution_count": 142,
     "metadata": {},
     "output_type": "execute_result"
    }
   ],
   "source": [
    "torch.greater_equal(a,2)"
   ]
  },
  {
   "cell_type": "code",
   "execution_count": 143,
   "metadata": {},
   "outputs": [
    {
     "data": {
      "text/plain": [
       "tensor([False,  True,  True,  True,  True,  True,  True,  True,  True,  True,\n",
       "         True,  True,  True,  True,  True,  True])"
      ]
     },
     "execution_count": 143,
     "metadata": {},
     "output_type": "execute_result"
    }
   ],
   "source": [
    "torch.ge(a, 2)"
   ]
  },
  {
   "cell_type": "code",
   "execution_count": 140,
   "metadata": {},
   "outputs": [
    {
     "data": {
      "text/plain": [
       "tensor([ True, False, False, False, False, False, False, False, False, False,\n",
       "        False, False, False, False, False, False])"
      ]
     },
     "execution_count": 140,
     "metadata": {},
     "output_type": "execute_result"
    }
   ],
   "source": [
    "# Less Than\n",
    "a < 2"
   ]
  },
  {
   "cell_type": "code",
   "execution_count": 144,
   "metadata": {},
   "outputs": [
    {
     "data": {
      "text/plain": [
       "tensor([ True, False, False, False, False, False, False, False, False, False,\n",
       "        False, False, False, False, False, False])"
      ]
     },
     "execution_count": 144,
     "metadata": {},
     "output_type": "execute_result"
    }
   ],
   "source": [
    "a.less(2)"
   ]
  },
  {
   "cell_type": "code",
   "execution_count": 145,
   "metadata": {},
   "outputs": [
    {
     "data": {
      "text/plain": [
       "tensor([ True, False, False, False, False, False, False, False, False, False,\n",
       "        False, False, False, False, False, False])"
      ]
     },
     "execution_count": 145,
     "metadata": {},
     "output_type": "execute_result"
    }
   ],
   "source": [
    "a.lt(2)"
   ]
  },
  {
   "cell_type": "code",
   "execution_count": 146,
   "metadata": {},
   "outputs": [
    {
     "data": {
      "text/plain": [
       "tensor([ True, False, False, False, False, False, False, False, False, False,\n",
       "        False, False, False, False, False, False])"
      ]
     },
     "execution_count": 146,
     "metadata": {},
     "output_type": "execute_result"
    }
   ],
   "source": [
    "torch.lt(a,2)"
   ]
  },
  {
   "cell_type": "code",
   "execution_count": 147,
   "metadata": {},
   "outputs": [
    {
     "data": {
      "text/plain": [
       "tensor([ True,  True, False, False, False, False, False, False, False, False,\n",
       "        False, False, False, False, False, False])"
      ]
     },
     "execution_count": 147,
     "metadata": {},
     "output_type": "execute_result"
    }
   ],
   "source": [
    "torch.le(a,2)"
   ]
  },
  {
   "cell_type": "code",
   "execution_count": null,
   "metadata": {},
   "outputs": [
    {
     "data": {
      "text/plain": [
       "tensor([False, False, False, False, False, False, False, False, False, False,\n",
       "        False, False, False, False, False, False])"
      ]
     },
     "execution_count": 151,
     "metadata": {},
     "output_type": "execute_result"
    }
   ],
   "source": [
    "a == 2 # Elementwise\n"
   ]
  },
  {
   "cell_type": "code",
   "execution_count": 152,
   "metadata": {},
   "outputs": [
    {
     "data": {
      "text/plain": [
       "tensor([False, False, False, False, False, False, False, False, False, False,\n",
       "        False, False, False, False, False, False])"
      ]
     },
     "execution_count": 152,
     "metadata": {},
     "output_type": "execute_result"
    }
   ],
   "source": [
    "a == b"
   ]
  },
  {
   "cell_type": "code",
   "execution_count": 153,
   "metadata": {},
   "outputs": [
    {
     "data": {
      "text/plain": [
       "tensor([False, False, False, False, False, False, False, False, False, False,\n",
       "        False, False, False, False, False, False])"
      ]
     },
     "execution_count": 153,
     "metadata": {},
     "output_type": "execute_result"
    }
   ],
   "source": [
    "a.eq(b)"
   ]
  },
  {
   "cell_type": "code",
   "execution_count": 154,
   "metadata": {},
   "outputs": [
    {
     "data": {
      "text/plain": [
       "False"
      ]
     },
     "execution_count": 154,
     "metadata": {},
     "output_type": "execute_result"
    }
   ],
   "source": [
    "a.equal(b)"
   ]
  },
  {
   "cell_type": "code",
   "execution_count": 155,
   "metadata": {},
   "outputs": [
    {
     "data": {
      "text/plain": [
       "tensor([True, True, True, True, True, True, True, True, True, True, True, True,\n",
       "        True, True, True, True])"
      ]
     },
     "execution_count": 155,
     "metadata": {},
     "output_type": "execute_result"
    }
   ],
   "source": [
    "a != b"
   ]
  },
  {
   "cell_type": "code",
   "execution_count": 156,
   "metadata": {},
   "outputs": [
    {
     "data": {
      "text/plain": [
       "tensor([True, True, True, True, True, True, True, True, True, True, True, True,\n",
       "        True, True, True, True])"
      ]
     },
     "execution_count": 156,
     "metadata": {},
     "output_type": "execute_result"
    }
   ],
   "source": [
    "a.ne(b)"
   ]
  },
  {
   "cell_type": "code",
   "execution_count": 158,
   "metadata": {},
   "outputs": [
    {
     "data": {
      "text/plain": [
       "tensor([True, True, True, True, True, True, True, True, True, True, True, True,\n",
       "        True, True, True, True])"
      ]
     },
     "execution_count": 158,
     "metadata": {},
     "output_type": "execute_result"
    }
   ],
   "source": [
    "torch.ne(a,b)"
   ]
  },
  {
   "cell_type": "markdown",
   "metadata": {},
   "source": [
    "# Logical Operations"
   ]
  },
  {
   "cell_type": "code",
   "execution_count": 159,
   "metadata": {},
   "outputs": [],
   "source": [
    "logic_a = torch.tensor([True, False, True, False], dtype=torch.bool)\n",
    "logic_b = torch.tensor([True, False, False, True], dtype=torch.bool)"
   ]
  },
  {
   "cell_type": "code",
   "execution_count": 160,
   "metadata": {},
   "outputs": [
    {
     "data": {
      "text/plain": [
       "tensor([ True, False, False, False])"
      ]
     },
     "execution_count": 160,
     "metadata": {},
     "output_type": "execute_result"
    }
   ],
   "source": [
    "logic_a.logical_and(logic_b)"
   ]
  },
  {
   "cell_type": "code",
   "execution_count": 161,
   "metadata": {},
   "outputs": [
    {
     "data": {
      "text/plain": [
       "tensor([ True, False, False, False])"
      ]
     },
     "execution_count": 161,
     "metadata": {},
     "output_type": "execute_result"
    }
   ],
   "source": [
    "logic_b.logical_and(logic_a)"
   ]
  },
  {
   "cell_type": "code",
   "execution_count": 162,
   "metadata": {},
   "outputs": [
    {
     "data": {
      "text/plain": [
       "tensor([ True, False,  True,  True])"
      ]
     },
     "execution_count": 162,
     "metadata": {},
     "output_type": "execute_result"
    }
   ],
   "source": [
    "logic_a.logical_or(logic_b)"
   ]
  },
  {
   "cell_type": "code",
   "execution_count": 163,
   "metadata": {},
   "outputs": [
    {
     "data": {
      "text/plain": [
       "tensor([False,  True, False,  True])"
      ]
     },
     "execution_count": 163,
     "metadata": {},
     "output_type": "execute_result"
    }
   ],
   "source": [
    "torch.logical_not(logic_a)"
   ]
  },
  {
   "cell_type": "code",
   "execution_count": 164,
   "metadata": {},
   "outputs": [
    {
     "data": {
      "text/plain": [
       "tensor([False, False, False, False])"
      ]
     },
     "execution_count": 164,
     "metadata": {},
     "output_type": "execute_result"
    }
   ],
   "source": [
    "torch.logical_xor(logic_b, logic_b)"
   ]
  },
  {
   "cell_type": "markdown",
   "metadata": {},
   "source": [
    "# Other Mathematical Operations"
   ]
  },
  {
   "cell_type": "code",
   "execution_count": 165,
   "metadata": {},
   "outputs": [],
   "source": [
    "x = torch.tensor([-10, -8, 7, 6, 5])"
   ]
  },
  {
   "cell_type": "code",
   "execution_count": 166,
   "metadata": {},
   "outputs": [
    {
     "data": {
      "text/plain": [
       "tensor([10,  8,  7,  6,  5])"
      ]
     },
     "execution_count": 166,
     "metadata": {},
     "output_type": "execute_result"
    }
   ],
   "source": [
    "torch.abs(x)"
   ]
  },
  {
   "cell_type": "code",
   "execution_count": 168,
   "metadata": {},
   "outputs": [
    {
     "data": {
      "text/plain": [
       "tensor([3.1623, 2.8284, 2.6458, 2.4495, 2.2361])"
      ]
     },
     "execution_count": 168,
     "metadata": {},
     "output_type": "execute_result"
    }
   ],
   "source": [
    "torch.sqrt(torch.abs(x))"
   ]
  },
  {
   "cell_type": "code",
   "execution_count": 170,
   "metadata": {},
   "outputs": [
    {
     "data": {
      "text/plain": [
       "tensor([2.7183e+00, 7.3891e+00, 2.0086e+01, 5.4598e+01, 1.4841e+02, 4.0343e+02,\n",
       "        1.0966e+03, 2.9810e+03, 8.1031e+03, 2.2026e+04, 5.9874e+04, 1.6275e+05,\n",
       "        4.4241e+05, 1.2026e+06, 3.2690e+06, 8.8861e+06])"
      ]
     },
     "execution_count": 170,
     "metadata": {},
     "output_type": "execute_result"
    }
   ],
   "source": [
    "torch.exp(a)"
   ]
  },
  {
   "cell_type": "code",
   "execution_count": 171,
   "metadata": {},
   "outputs": [
    {
     "data": {
      "text/plain": [
       "tensor([0.0000, 0.6931, 1.0986, 1.3863, 1.6094, 1.7918, 1.9459, 2.0794, 2.1972,\n",
       "        2.3026, 2.3979, 2.4849, 2.5649, 2.6391, 2.7081, 2.7726])"
      ]
     },
     "execution_count": 171,
     "metadata": {},
     "output_type": "execute_result"
    }
   ],
   "source": [
    "torch.log(a)"
   ]
  },
  {
   "cell_type": "code",
   "execution_count": 173,
   "metadata": {},
   "outputs": [
    {
     "data": {
      "text/plain": [
       "tensor([0.0000, 0.3010, 0.4771, 0.6021, 0.6990, 0.7782, 0.8451, 0.9031, 0.9542,\n",
       "        1.0000, 1.0414, 1.0792, 1.1139, 1.1461, 1.1761, 1.2041])"
      ]
     },
     "execution_count": 173,
     "metadata": {},
     "output_type": "execute_result"
    }
   ],
   "source": [
    "torch.log10(a)"
   ]
  },
  {
   "cell_type": "code",
   "execution_count": 178,
   "metadata": {},
   "outputs": [
    {
     "data": {
      "text/plain": [
       "tensor([-3., -2.,  3.,  2.,  2.])"
      ]
     },
     "execution_count": 178,
     "metadata": {},
     "output_type": "execute_result"
    }
   ],
   "source": [
    "torch.ceil(x / 3)"
   ]
  },
  {
   "cell_type": "code",
   "execution_count": 179,
   "metadata": {},
   "outputs": [
    {
     "data": {
      "text/plain": [
       "tensor([-4., -3.,  2.,  2.,  1.])"
      ]
     },
     "execution_count": 179,
     "metadata": {},
     "output_type": "execute_result"
    }
   ],
   "source": [
    "torch.floor(x / 3)"
   ]
  },
  {
   "cell_type": "code",
   "execution_count": 183,
   "metadata": {},
   "outputs": [
    {
     "data": {
      "text/plain": [
       "tensor([-3.3330, -2.6670,  2.3330,  2.0000,  1.6670])"
      ]
     },
     "execution_count": 183,
     "metadata": {},
     "output_type": "execute_result"
    }
   ],
   "source": [
    "torch.round(x/ 3, decimals=3)"
   ]
  },
  {
   "cell_type": "code",
   "execution_count": 184,
   "metadata": {},
   "outputs": [
    {
     "data": {
      "text/plain": [
       "tensor([0.7311, 0.8808, 0.9526, 0.9820, 0.9933, 0.9975, 0.9991, 0.9997, 0.9999,\n",
       "        1.0000, 1.0000, 1.0000, 1.0000, 1.0000, 1.0000, 1.0000])"
      ]
     },
     "execution_count": 184,
     "metadata": {},
     "output_type": "execute_result"
    }
   ],
   "source": [
    "torch.sigmoid(a)"
   ]
  },
  {
   "cell_type": "code",
   "execution_count": 186,
   "metadata": {},
   "outputs": [
    {
     "data": {
      "text/plain": [
       "tensor([0.0500, 0.0900])"
      ]
     },
     "execution_count": 186,
     "metadata": {},
     "output_type": "execute_result"
    }
   ],
   "source": [
    "torch.relu(torch.tensor([0.05, 0.09]))"
   ]
  },
  {
   "cell_type": "markdown",
   "metadata": {},
   "source": [
    "# In-Place Operations"
   ]
  },
  {
   "cell_type": "code",
   "execution_count": 191,
   "metadata": {},
   "outputs": [
    {
     "name": "stdout",
     "output_type": "stream",
     "text": [
      "before tensor([ 7,  8,  9, 10, 11, 12, 13, 14, 15, 16, 17, 18, 19, 20, 21, 22])\n",
      "after tensor([ 9, 10, 11, 12, 13, 14, 15, 16, 17, 18, 19, 20, 21, 22, 23, 24])\n"
     ]
    }
   ],
   "source": [
    "print('before', a)\n",
    "a.add_(2)\n",
    "print('after',a)"
   ]
  },
  {
   "cell_type": "code",
   "execution_count": 192,
   "metadata": {},
   "outputs": [
    {
     "name": "stdout",
     "output_type": "stream",
     "text": [
      "before tensor([ 9, 10, 11, 12, 13, 14, 15, 16, 17, 18, 19, 20, 21, 22, 23, 24])\n",
      "after tensor([ 7,  8,  9, 10, 11, 12, 13, 14, 15, 16, 17, 18, 19, 20, 21, 22])\n"
     ]
    }
   ],
   "source": [
    "print('before', a)\n",
    "a.sub_(2)\n",
    "print('after',a)"
   ]
  },
  {
   "cell_type": "code",
   "execution_count": 193,
   "metadata": {},
   "outputs": [
    {
     "name": "stdout",
     "output_type": "stream",
     "text": [
      "before tensor([ 7,  8,  9, 10, 11, 12, 13, 14, 15, 16, 17, 18, 19, 20, 21, 22])\n",
      "after tensor([14, 16, 18, 20, 22, 24, 26, 28, 30, 32, 34, 36, 38, 40, 42, 44])\n"
     ]
    }
   ],
   "source": [
    "print('before', a)\n",
    "a.mul_(2)\n",
    "print('after',a)"
   ]
  },
  {
   "cell_type": "code",
   "execution_count": 200,
   "metadata": {},
   "outputs": [
    {
     "name": "stdout",
     "output_type": "stream",
     "text": [
      "before tensor([ 3.5000,  4.0000,  4.5000,  5.0000,  5.5000,  6.0000,  6.5000,  7.0000,\n",
      "         7.5000,  8.0000,  8.5000,  9.0000,  9.5000, 10.0000, 10.5000, 11.0000])\n",
      "after tensor([1.7500, 2.0000, 2.2500, 2.5000, 2.7500, 3.0000, 3.2500, 3.5000, 3.7500,\n",
      "        4.0000, 4.2500, 4.5000, 4.7500, 5.0000, 5.2500, 5.5000])\n"
     ]
    }
   ],
   "source": [
    "print('before', a)\n",
    "a = a.float()\n",
    "a.div_(2)\n",
    "print('after',a)"
   ]
  },
  {
   "cell_type": "markdown",
   "metadata": {},
   "source": [
    "# Trignometric Operations"
   ]
  },
  {
   "cell_type": "code",
   "execution_count": 201,
   "metadata": {},
   "outputs": [
    {
     "data": {
      "text/plain": [
       "tensor([ 0.9840,  0.9093,  0.7781,  0.5985,  0.3817,  0.1411, -0.1082, -0.3508,\n",
       "        -0.5716, -0.7568, -0.8950, -0.9775, -0.9993, -0.9589, -0.8589, -0.7055])"
      ]
     },
     "execution_count": 201,
     "metadata": {},
     "output_type": "execute_result"
    }
   ],
   "source": [
    "torch.sin(a)"
   ]
  },
  {
   "cell_type": "code",
   "execution_count": 202,
   "metadata": {},
   "outputs": [
    {
     "data": {
      "text/plain": [
       "tensor([-0.1782, -0.4161, -0.6282, -0.8011, -0.9243, -0.9900, -0.9941, -0.9365,\n",
       "        -0.8206, -0.6536, -0.4461, -0.2108,  0.0376,  0.2837,  0.5121,  0.7087])"
      ]
     },
     "execution_count": 202,
     "metadata": {},
     "output_type": "execute_result"
    }
   ],
   "source": [
    "torch.cos(a)"
   ]
  },
  {
   "cell_type": "code",
   "execution_count": 203,
   "metadata": {},
   "outputs": [
    {
     "data": {
      "text/plain": [
       "tensor([ -5.5204,  -2.1850,  -1.2386,  -0.7470,  -0.4129,  -0.1425,   0.1088,\n",
       "          0.3746,   0.6966,   1.1578,   2.0063,   4.6373, -26.5754,  -3.3805,\n",
       "         -1.6773,  -0.9956])"
      ]
     },
     "execution_count": 203,
     "metadata": {},
     "output_type": "execute_result"
    }
   ],
   "source": [
    "torch.tan(a)"
   ]
  },
  {
   "cell_type": "markdown",
   "metadata": {},
   "source": [
    "# Type casting the Tensors"
   ]
  },
  {
   "cell_type": "code",
   "execution_count": 206,
   "metadata": {},
   "outputs": [],
   "source": [
    "x = torch.tensor([1, 2, 3])"
   ]
  },
  {
   "cell_type": "code",
   "execution_count": 207,
   "metadata": {},
   "outputs": [
    {
     "data": {
      "text/plain": [
       "torch.int64"
      ]
     },
     "execution_count": 207,
     "metadata": {},
     "output_type": "execute_result"
    }
   ],
   "source": [
    "x.dtype"
   ]
  },
  {
   "cell_type": "code",
   "execution_count": null,
   "metadata": {},
   "outputs": [
    {
     "name": "stdout",
     "output_type": "stream",
     "text": [
      "torch.float32\n",
      "torch.float32\n",
      "torch.float32\n"
     ]
    }
   ],
   "source": [
    "# Floating Point Types\n",
    "float_tensor = x.float()           # Default float (32-bit)\n",
    "print(float_tensor.dtype)\n",
    "float32_tensor = x.to(torch.float32)\n",
    "print(float32_tensor.dtype)\n",
    "float32_tensor = x.type(torch.float32)\n",
    "print(float32_tensor.dtype)"
   ]
  },
  {
   "cell_type": "code",
   "execution_count": null,
   "metadata": {},
   "outputs": [
    {
     "name": "stdout",
     "output_type": "stream",
     "text": [
      "torch.float64\n"
     ]
    }
   ],
   "source": [
    "float64_tensor = x.double()          # 64-bit float\n",
    "float64_tensor = x.to(torch.float64)\n",
    "float64_tensor = x.type(torch.float64)\n",
    "print(float64_tensor.dtype)"
   ]
  },
  {
   "cell_type": "code",
   "execution_count": null,
   "metadata": {},
   "outputs": [
    {
     "name": "stdout",
     "output_type": "stream",
     "text": [
      "torch.float16\n"
     ]
    }
   ],
   "source": [
    "float16_tensor = x.half()            # 16-bit float\n",
    "float16_tensor = x.to(torch.float16)\n",
    "float16_tensor = x.type(torch.float16)\n",
    "print(float16_tensor.dtype)"
   ]
  },
  {
   "cell_type": "code",
   "execution_count": 213,
   "metadata": {},
   "outputs": [
    {
     "name": "stdout",
     "output_type": "stream",
     "text": [
      "torch.bfloat16\n"
     ]
    }
   ],
   "source": [
    "bfloat16_tensor = x.bfloat16()       # Brain floating point format\n",
    "bfloat16_tensor = x.to(torch.bfloat16)\n",
    "bfloat16_tensor = x.type(torch.bfloat16)\n",
    "print(bfloat16_tensor.dtype)"
   ]
  },
  {
   "cell_type": "code",
   "execution_count": 215,
   "metadata": {},
   "outputs": [
    {
     "name": "stdout",
     "output_type": "stream",
     "text": [
      "torch.int32\n"
     ]
    }
   ],
   "source": [
    "# Integer Types\n",
    "int32_tensor = x.int()               # 32-bit integer\n",
    "int32_tensor = x.to(torch.int32)\n",
    "int32_tensor = x.type(torch.int32)\n",
    "print(int32_tensor.dtype)"
   ]
  },
  {
   "cell_type": "code",
   "execution_count": 216,
   "metadata": {},
   "outputs": [
    {
     "name": "stdout",
     "output_type": "stream",
     "text": [
      "torch.int64\n"
     ]
    }
   ],
   "source": [
    "int64_tensor = x.long()              # 64-bit integer\n",
    "int64_tensor = x.to(torch.int64)\n",
    "int64_tensor = x.type(torch.int64)\n",
    "print(int64_tensor.dtype)"
   ]
  },
  {
   "cell_type": "code",
   "execution_count": 217,
   "metadata": {},
   "outputs": [
    {
     "name": "stdout",
     "output_type": "stream",
     "text": [
      "torch.int16\n"
     ]
    }
   ],
   "source": [
    "int16_tensor = x.short()             # 16-bit integer\n",
    "int16_tensor = x.to(torch.int16)\n",
    "int16_tensor = x.type(torch.int16)\n",
    "print(int16_tensor.dtype)"
   ]
  },
  {
   "cell_type": "code",
   "execution_count": 218,
   "metadata": {},
   "outputs": [
    {
     "name": "stdout",
     "output_type": "stream",
     "text": [
      "torch.int8\n"
     ]
    }
   ],
   "source": [
    "\n",
    "int8_tensor = x.char()               # 8-bit integer\n",
    "int8_tensor = x.to(torch.int8)\n",
    "int8_tensor = x.type(torch.int8)\n",
    "print(int8_tensor.dtype)"
   ]
  },
  {
   "cell_type": "code",
   "execution_count": 219,
   "metadata": {},
   "outputs": [
    {
     "name": "stdout",
     "output_type": "stream",
     "text": [
      "torch.uint8\n"
     ]
    }
   ],
   "source": [
    "\n",
    "# Unsigned Integer Types\n",
    "uint8_tensor = x.byte()              # 8-bit unsigned integer\n",
    "uint8_tensor = x.to(torch.uint8)\n",
    "uint8_tensor = x.type(torch.uint8)\n",
    "print(uint8_tensor.dtype)"
   ]
  },
  {
   "cell_type": "code",
   "execution_count": 222,
   "metadata": {},
   "outputs": [
    {
     "name": "stdout",
     "output_type": "stream",
     "text": [
      "torch.bool\n"
     ]
    },
    {
     "data": {
      "text/plain": [
       "tensor([1, 0, 0, 1])"
      ]
     },
     "execution_count": 222,
     "metadata": {},
     "output_type": "execute_result"
    }
   ],
   "source": [
    "\n",
    "# Boolean Type\n",
    "y = torch.tensor([1,0,0,1])\n",
    "bool_tensor = y.bool()               # Boolean\n",
    "bool_tensor = x.to(torch.bool)\n",
    "bool_tensor = x.type(torch.bool)\n",
    "print(bool_tensor.dtype)\n",
    "y"
   ]
  },
  {
   "cell_type": "code",
   "execution_count": 223,
   "metadata": {},
   "outputs": [],
   "source": [
    "\n",
    "# Complex Types\n",
    "complex64_tensor = x.to(torch.complex64)    # Complex number (float32 real and imaginary)\n",
    "complex128_tensor = x.to(torch.complex128)  # Complex number (float64 real and imaginary)\n"
   ]
  },
  {
   "cell_type": "code",
   "execution_count": 234,
   "metadata": {},
   "outputs": [
    {
     "data": {
      "text/plain": [
       "tensor([1., 2., 3.])"
      ]
     },
     "execution_count": 234,
     "metadata": {},
     "output_type": "execute_result"
    }
   ],
   "source": [
    "\n",
    "# Device and dtype casting together\n",
    "gpu_float_tensor = x.to(device=device, dtype=torch.float32)  # If GPU available\n",
    "gpu_float_tensor = gpu_float_tensor.to(device='cpu')\n",
    "gpu_float_tensor"
   ]
  },
  {
   "cell_type": "code",
   "execution_count": 235,
   "metadata": {},
   "outputs": [],
   "source": [
    "\n",
    "# Type checking\n",
    "dtype = x.dtype                      # Get current dtype\n",
    "is_floating = x.is_floating_point()  # Check if tensor is floating point\n",
    "is_complex = x.is_complex()          # Check if tensor is complex\n"
   ]
  },
  {
   "cell_type": "code",
   "execution_count": null,
   "metadata": {},
   "outputs": [],
   "source": [
    "\n",
    "# Memory format preservation during casting\n",
    "contiguous_tensor = x.contiguous().to(torch.float32)  # Ensure contiguous memory layout\n"
   ]
  },
  {
   "cell_type": "code",
   "execution_count": null,
   "metadata": {},
   "outputs": [],
   "source": [
    "\n",
    "# Handling gradients during casting\n",
    "requires_grad_tensor = x.to(torch.float32, requires_grad=True)"
   ]
  },
  {
   "cell_type": "markdown",
   "metadata": {},
   "source": [
    "# from and to Numpy conversions "
   ]
  },
  {
   "cell_type": "code",
   "execution_count": 236,
   "metadata": {},
   "outputs": [],
   "source": [
    "import numpy as np\n",
    "\n",
    "# ====== NumPy to PyTorch ======\n",
    "# Basic conversion\n",
    "numpy_array = np.array([1, 2, 3])\n",
    "torch_tensor = torch.from_numpy(numpy_array)                 # Shares memory with numpy array\n",
    "torch_tensor = torch.tensor(numpy_array)                    # Creates a copy\n",
    "torch_tensor = torch.as_tensor(numpy_array)                 # Shares memory when possible\n"
   ]
  },
  {
   "cell_type": "code",
   "execution_count": 237,
   "metadata": {},
   "outputs": [],
   "source": [
    "\n",
    "# Specify dtype during conversion\n",
    "torch_float = torch.from_numpy(numpy_array).float()\n",
    "torch_float = torch.tensor(numpy_array, dtype=torch.float32)\n",
    "torch_float = torch.as_tensor(numpy_array, dtype=torch.float32)\n"
   ]
  },
  {
   "cell_type": "code",
   "execution_count": 240,
   "metadata": {},
   "outputs": [],
   "source": [
    "\n",
    "# Convert and move to GPU (if available)\n",
    "torch_gpu = torch.from_numpy(numpy_array).to(device=device)\n",
    "torch_gpu = torch.tensor(numpy_array, device=device)\n",
    "torch_gpu = torch.as_tensor(numpy_array, device=device)\n"
   ]
  },
  {
   "cell_type": "code",
   "execution_count": 241,
   "metadata": {},
   "outputs": [],
   "source": [
    "\n",
    "# Handle special numpy arrays\n",
    "torch_masked = torch.from_numpy(np.ma.masked_array([1, 2, 3], mask=[0, 1, 0]))\n",
    "torch_tensor = torch.tensor(np.nan)  # Handle NaN values\n",
    "torch_tensor = torch.tensor(np.inf)  # Handle infinity\n"
   ]
  },
  {
   "cell_type": "code",
   "execution_count": 242,
   "metadata": {},
   "outputs": [],
   "source": [
    "\n",
    "# ====== PyTorch to NumPy ======\n",
    "# Basic conversion\n",
    "torch_tensor = torch.tensor([1, 2, 3])\n",
    "numpy_array = torch_tensor.numpy()                          # Only works for CPU tensors\n",
    "numpy_array = torch_tensor.detach().numpy()                 # Detach from computation graph first\n",
    "numpy_array = torch_tensor.cpu().numpy()                    # Move to CPU first if needed\n"
   ]
  },
  {
   "cell_type": "code",
   "execution_count": 244,
   "metadata": {},
   "outputs": [],
   "source": [
    "\n",
    "# Handle GPU tensors\n",
    "gpu_tensor = torch_tensor.to(device=device)\n",
    "numpy_array = gpu_tensor.cpu().numpy()                      # Must move to CPU first\n"
   ]
  },
  {
   "cell_type": "code",
   "execution_count": 245,
   "metadata": {},
   "outputs": [],
   "source": [
    "\n",
    "# Handle gradients\n",
    "grad_tensor = torch.tensor([1., 2., 3.], requires_grad=True)\n",
    "numpy_array = grad_tensor.detach().numpy()                  # Detach to remove gradients\n",
    "numpy_array = grad_tensor.data.numpy()                      # Alternative way to get data\n"
   ]
  },
  {
   "cell_type": "code",
   "execution_count": 246,
   "metadata": {},
   "outputs": [],
   "source": [
    "\n",
    "# Special conversions\n",
    "numpy_array = torch_tensor.numpy(force=True)                # Force numpy conversion\n",
    "numpy_array = torch_tensor.detach().clone().numpy()         # Create a copy before converting\n"
   ]
  },
  {
   "cell_type": "code",
   "execution_count": 247,
   "metadata": {},
   "outputs": [
    {
     "ename": "IndexError",
     "evalue": "Dimension out of range (expected to be in range of [-1, 0], but got 1)",
     "output_type": "error",
     "traceback": [
      "\u001b[0;31m---------------------------------------------------------------------------\u001b[0m",
      "\u001b[0;31mIndexError\u001b[0m                                Traceback (most recent call last)",
      "Cell \u001b[0;32mIn[247], line 3\u001b[0m\n\u001b[1;32m      1\u001b[0m \u001b[38;5;66;03m# ====== Common Pitfalls and Solutions ======\u001b[39;00m\n\u001b[1;32m      2\u001b[0m \u001b[38;5;66;03m# Handle non-contiguous tensors\u001b[39;00m\n\u001b[0;32m----> 3\u001b[0m non_contiguous \u001b[38;5;241m=\u001b[39m \u001b[43mtorch_tensor\u001b[49m\u001b[38;5;241;43m.\u001b[39;49m\u001b[43mtranspose\u001b[49m\u001b[43m(\u001b[49m\u001b[38;5;241;43m0\u001b[39;49m\u001b[43m,\u001b[49m\u001b[43m \u001b[49m\u001b[38;5;241;43m1\u001b[39;49m\u001b[43m)\u001b[49m\n\u001b[1;32m      4\u001b[0m numpy_array \u001b[38;5;241m=\u001b[39m non_contiguous\u001b[38;5;241m.\u001b[39mcontiguous()\u001b[38;5;241m.\u001b[39mnumpy()           \u001b[38;5;66;03m# Make contiguous first\u001b[39;00m\n",
      "\u001b[0;31mIndexError\u001b[0m: Dimension out of range (expected to be in range of [-1, 0], but got 1)"
     ]
    }
   ],
   "source": [
    "\n",
    "# ====== Common Pitfalls and Solutions ======\n",
    "# Handle non-contiguous tensors\n",
    "non_contiguous = torch_tensor.transpose(0, 1)\n",
    "numpy_array = non_contiguous.contiguous().numpy()           # Make contiguous first\n"
   ]
  },
  {
   "cell_type": "code",
   "execution_count": 248,
   "metadata": {},
   "outputs": [],
   "source": [
    "\n",
    "# Handle different data types\n",
    "int_tensor = torch.tensor([1, 2, 3], dtype=torch.int32)\n",
    "float_numpy = int_tensor.float().numpy()                    # Convert dtype before numpy()\n"
   ]
  },
  {
   "cell_type": "code",
   "execution_count": 249,
   "metadata": {},
   "outputs": [],
   "source": [
    "\n",
    "# Preserve gradients information (if needed)\n",
    "grad_numpy = grad_tensor.grad.numpy() if grad_tensor.grad is not None else None\n"
   ]
  },
  {
   "cell_type": "code",
   "execution_count": 250,
   "metadata": {},
   "outputs": [],
   "source": [
    "\n",
    "# ====== Memory Sharing Examples ======\n",
    "# Check if memory is shared\n",
    "numpy_array = np.array([1, 2, 3])\n",
    "torch_shared = torch.from_numpy(numpy_array)\n",
    "numpy_array[0] = 100  # Changes will be reflected in torch_shared\n"
   ]
  },
  {
   "cell_type": "code",
   "execution_count": 251,
   "metadata": {},
   "outputs": [],
   "source": [
    "\n",
    "# Create a copy to avoid sharing\n",
    "torch_copy = torch.tensor(numpy_array.copy())\n",
    "numpy_array[0] = 200  # Won't affect torch_copy\n"
   ]
  },
  {
   "cell_type": "code",
   "execution_count": 252,
   "metadata": {},
   "outputs": [],
   "source": [
    "\n",
    "# ====== Shape Handling ======\n",
    "# Preserve dimensions\n",
    "numpy_2d = np.array([[1, 2], [3, 4]])\n",
    "torch_2d = torch.from_numpy(numpy_2d)                       # Preserves 2D shape\n"
   ]
  },
  {
   "cell_type": "code",
   "execution_count": 253,
   "metadata": {},
   "outputs": [],
   "source": [
    "\n",
    "# Handle different memory layouts\n",
    "numpy_f = np.array([[1, 2], [3, 4]], order='F')            # Fortran-style array\n",
    "torch_f = torch.from_numpy(numpy_f)                         # Preserves memory layout"
   ]
  }
 ],
 "metadata": {
  "kernelspec": {
   "display_name": ".venv",
   "language": "python",
   "name": "python3"
  },
  "language_info": {
   "codemirror_mode": {
    "name": "ipython",
    "version": 3
   },
   "file_extension": ".py",
   "mimetype": "text/x-python",
   "name": "python",
   "nbconvert_exporter": "python",
   "pygments_lexer": "ipython3",
   "version": "3.12.7"
  }
 },
 "nbformat": 4,
 "nbformat_minor": 2
}
