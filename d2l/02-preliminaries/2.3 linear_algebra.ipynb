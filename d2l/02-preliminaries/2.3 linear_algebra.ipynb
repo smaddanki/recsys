{
 "cells": [
  {
   "cell_type": "markdown",
   "metadata": {},
   "source": [
    "# Linear Algebra Operations\n",
    "\n",
    "**Basic Matrix Operations:**\n",
    "\n",
    "- Matrix multiplication (mm, matmul, @)\n",
    "- Vector operations (mv, dot, cross)\n",
    "- Element-wise operations\n",
    "\n",
    "\n",
    "**Matrix Properties:**\n",
    "\n",
    "- Determinant and rank\n",
    "- Trace and diagonal\n",
    "- Various matrix norms\n",
    "\n",
    "\n",
    "**Matrix Decompositions:**\n",
    "\n",
    "- SVD\n",
    "- Eigendecomposition\n",
    "- LU, QR, and Cholesky decompositions\n",
    "\n",
    "\n",
    "**System Solving:**\n",
    "\n",
    "- Linear system solutions\n",
    "- Matrix inverse and pseudoinverse\n",
    "\n",
    "\n",
    "**Advanced Operations:**\n",
    "\n",
    "- Matrix functions (exp, power)\n",
    "- Special matrix operations\n",
    "- Batch operations\n",
    "\n",
    "\n",
    "**Special Matrices:**\n",
    "\n",
    "- Creation of identity, zero, random matrices\n",
    "- Specialized matrix types"
   ]
  },
  {
   "cell_type": "code",
   "execution_count": 1,
   "metadata": {},
   "outputs": [],
   "source": [
    "import torch\n",
    "import torch.linalg as LA"
   ]
  },
  {
   "cell_type": "code",
   "execution_count": 2,
   "metadata": {},
   "outputs": [],
   "source": [
    "\n",
    "# Create example tensors\n",
    "A = torch.randn(3, 3)\n",
    "B = torch.randn(3, 3)\n",
    "v = torch.randn(3)"
   ]
  },
  {
   "cell_type": "code",
   "execution_count": 3,
   "metadata": {},
   "outputs": [],
   "source": [
    "\n",
    "# ===== Basic Matrix Operations =====\n",
    "# Matrix multiplication\n",
    "C = torch.mm(A, B)             # Matrix-matrix multiplication\n",
    "C = A @ B                      # Using @ operator\n",
    "C = torch.matmul(A, B)         # General matrix multiplication"
   ]
  },
  {
   "cell_type": "code",
   "execution_count": 4,
   "metadata": {},
   "outputs": [
    {
     "name": "stderr",
     "output_type": "stream",
     "text": [
      "/var/folders/4x/48wx0c5156g28f5nn0ljxn4w0000gn/T/ipykernel_18262/3590138903.py:4: UserWarning: Using torch.cross without specifying the dim arg is deprecated.\n",
      "Please either pass the dim explicitly or simply use torch.linalg.cross.\n",
      "The default value of dim will change to agree with that of linalg.cross in a future release. (Triggered internally at /Users/runner/work/pytorch/pytorch/pytorch/aten/src/ATen/native/Cross.cpp:66.)\n",
      "  cross = torch.cross(v, v)      # Vector cross product\n"
     ]
    }
   ],
   "source": [
    "\n",
    "# Vector operations\n",
    "w = torch.mv(A, v)             # Matrix-vector multiplication\n",
    "dot = torch.dot(v, v)          # Vector dot product\n",
    "cross = torch.cross(v, v)      # Vector cross product\n",
    "outer = torch.outer(v, v)      # Outer product"
   ]
  },
  {
   "cell_type": "code",
   "execution_count": 5,
   "metadata": {},
   "outputs": [],
   "source": [
    "\n",
    "# Element-wise operations\n",
    "hadamard = A * B               # Hadamard (element-wise) product\n",
    "sum_matrices = A + B           # Matrix addition\n",
    "diff_matrices = A - B          # Matrix subtraction"
   ]
  },
  {
   "cell_type": "code",
   "execution_count": 6,
   "metadata": {},
   "outputs": [],
   "source": [
    "\n",
    "# ===== Matrix Properties =====\n",
    "# Determinant and rank\n",
    "det = torch.det(A)             # Matrix determinant\n",
    "det = LA.det(A)               # Alternative using torch.linalg\n",
    "rank = LA.matrix_rank(A)      # Matrix rank"
   ]
  },
  {
   "cell_type": "code",
   "execution_count": 7,
   "metadata": {},
   "outputs": [],
   "source": [
    "\n",
    "# Trace and diagonal\n",
    "tr = torch.trace(A)            # Matrix trace\n",
    "diag = torch.diag(A)           # Extract diagonal\n",
    "diag_mat = torch.diag(v)       # Create diagonal matrix from vector"
   ]
  },
  {
   "cell_type": "code",
   "execution_count": 8,
   "metadata": {},
   "outputs": [],
   "source": [
    "\n",
    "# Norms\n",
    "norm_frobenius = LA.norm(A, 'fro')    # Frobenius norm\n",
    "norm_nuclear = LA.norm(A, 'nuc')      # Nuclear norm\n",
    "norm_spectral = LA.norm(A, 2)         # Spectral norm (largest singular value)\n",
    "norm_vector = LA.vector_norm(v)       # Vector norm"
   ]
  },
  {
   "cell_type": "code",
   "execution_count": 9,
   "metadata": {},
   "outputs": [],
   "source": [
    "\n",
    "# ===== Matrix Decompositions =====\n",
    "# Singular Value Decomposition (SVD)\n",
    "U, S, Vh = LA.svd(A)           # Full SVD\n",
    "U, S, Vh = LA.svd(A, full_matrices=False)  # Economy SVD"
   ]
  },
  {
   "cell_type": "code",
   "execution_count": 10,
   "metadata": {},
   "outputs": [],
   "source": [
    "\n",
    "# Eigendecomposition\n",
    "eigenvals, eigenvecs = LA.eig(A)      # Eigendecomposition\n",
    "eigenvals, eigenvecs = LA.eigh(A)     # Hermitian/symmetric eigendecomposition"
   ]
  },
  {
   "cell_type": "code",
   "execution_count": 11,
   "metadata": {},
   "outputs": [],
   "source": [
    "\n",
    "# LU Decomposition\n",
    "LU, pivots = LA.lu_factor(A)          # LU factorization\n",
    "P, L, U = LA.lu(A)                    # Complete LU decomposition"
   ]
  },
  {
   "cell_type": "code",
   "execution_count": 12,
   "metadata": {},
   "outputs": [],
   "source": [
    "\n",
    "# QR Decomposition\n",
    "Q, R = LA.qr(A)                       # QR decomposition"
   ]
  },
  {
   "cell_type": "code",
   "execution_count": 13,
   "metadata": {},
   "outputs": [],
   "source": [
    "\n",
    "# Cholesky Decomposition\n",
    "L = LA.cholesky(A @ A.T)              # Cholesky decomposition"
   ]
  },
  {
   "cell_type": "code",
   "execution_count": 14,
   "metadata": {},
   "outputs": [],
   "source": [
    "\n",
    "# ===== System Solving =====\n",
    "# Solve linear system Ax = b\n",
    "b = torch.randn(3)\n",
    "x = LA.solve(A, b)                    # Solve Ax = b\n",
    "x = LA.lstsq(A, b)                    # Least squares solution"
   ]
  },
  {
   "cell_type": "code",
   "execution_count": 15,
   "metadata": {},
   "outputs": [],
   "source": [
    "\n",
    "# Matrix inverse\n",
    "inv_A = LA.inv(A)                     # Matrix inverse\n",
    "pinv_A = LA.pinv(A)                   # Pseudoinverse"
   ]
  },
  {
   "cell_type": "code",
   "execution_count": 16,
   "metadata": {},
   "outputs": [],
   "source": [
    "\n",
    "# ===== Advanced Operations =====\n",
    "# Matrix functions\n",
    "exp_A = LA.matrix_exp(A)              # Matrix exponential\n",
    "power_A = LA.matrix_power(A, 3)       # Matrix power"
   ]
  },
  {
   "cell_type": "code",
   "execution_count": 17,
   "metadata": {},
   "outputs": [
    {
     "name": "stderr",
     "output_type": "stream",
     "text": [
      "/Users/sudhamshuaddanki/smaddanki/Repos/d2l/.venv/lib/python3.12/site-packages/torch/functional.py:2033: UserWarning: torch.chain_matmul is deprecated and will be removed in a future PyTorch release. Use torch.linalg.multi_dot instead, which accepts a list of two or more tensors rather than multiple parameters. (Triggered internally at /Users/runner/work/pytorch/pytorch/pytorch/aten/src/ATen/native/LinearAlgebra.cpp:1109.)\n",
      "  return _VF.chain_matmul(matrices)  # type: ignore[attr-defined]\n"
     ]
    }
   ],
   "source": [
    "# Matrix products\n",
    "multi_mm = torch.chain_matmul(A, B, A)  # Chain matrix multiplication"
   ]
  },
  {
   "cell_type": "code",
   "execution_count": 18,
   "metadata": {},
   "outputs": [],
   "source": [
    "# Triangular operations\n",
    "upper_tri = torch.triu(A)             # Extract upper triangular\n",
    "lower_tri = torch.tril(A)             # Extract lower triangular"
   ]
  },
  {
   "cell_type": "code",
   "execution_count": 19,
   "metadata": {},
   "outputs": [],
   "source": [
    "\n",
    "# ===== Additional Properties =====\n",
    "def matrix_properties(A):\n",
    "    \"\"\"Compute various matrix properties\"\"\"\n",
    "    props = {\n",
    "        'is_symmetric': torch.allclose(A, A.T),\n",
    "        'is_positive_definite': is_positive_definite(A),\n",
    "        'condition_number': LA.cond(A),\n",
    "        'rank': LA.matrix_rank(A),\n",
    "        'determinant': LA.det(A),\n",
    "        'trace': torch.trace(A)\n",
    "    }\n",
    "    return props"
   ]
  },
  {
   "cell_type": "code",
   "execution_count": 20,
   "metadata": {},
   "outputs": [],
   "source": [
    "\n",
    "def is_positive_definite(A):\n",
    "    \"\"\"Check if matrix is positive definite\"\"\"\n",
    "    try:\n",
    "        LA.cholesky(A)\n",
    "        return True\n",
    "    except RuntimeError:\n",
    "        return False"
   ]
  },
  {
   "cell_type": "code",
   "execution_count": 21,
   "metadata": {},
   "outputs": [],
   "source": [
    "# ===== Special Matrices =====\n",
    "def create_special_matrices(n):\n",
    "    \"\"\"Create various special matrices\"\"\"\n",
    "    matrices = {\n",
    "        'identity': torch.eye(n),\n",
    "        'zeros': torch.zeros(n, n),\n",
    "        'ones': torch.ones(n, n),\n",
    "        'random': torch.randn(n, n),\n",
    "        'orthogonal': LA.qr(torch.randn(n, n))[0],\n",
    "        'symmetric': lambda x: (x + x.T)/2,\n",
    "        'diagonal': torch.diag(torch.randn(n))\n",
    "    }\n",
    "    return matrices\n",
    "\n",
    "# ===== Performance Optimized Operations =====\n",
    "# Batch operations\n",
    "batch_A = torch.randn(10, 3, 3)  # Batch of matrices\n",
    "batch_b = torch.randn(10, 3)     # Batch of vectors\n",
    "\n",
    "# Batch matrix multiplication\n",
    "batch_C = torch.bmm(batch_A, batch_A.transpose(1, 2))  # Batch matrix-matrix product\n",
    "batch_x = LA.solve(batch_A, batch_b.unsqueeze(-1))     # Batch solve"
   ]
  },
  {
   "cell_type": "code",
   "execution_count": null,
   "metadata": {},
   "outputs": [],
   "source": []
  }
 ],
 "metadata": {
  "kernelspec": {
   "display_name": ".venv",
   "language": "python",
   "name": "python3"
  },
  "language_info": {
   "codemirror_mode": {
    "name": "ipython",
    "version": 3
   },
   "file_extension": ".py",
   "mimetype": "text/x-python",
   "name": "python",
   "nbconvert_exporter": "python",
   "pygments_lexer": "ipython3",
   "version": "3.12.7"
  }
 },
 "nbformat": 4,
 "nbformat_minor": 2
}
